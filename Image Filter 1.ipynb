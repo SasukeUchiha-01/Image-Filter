{
 "cells": [
  {
   "cell_type": "code",
   "execution_count": 1,
   "id": "1aac161c",
   "metadata": {},
   "outputs": [],
   "source": [
    "#!pip install imageio"
   ]
  },
  {
   "cell_type": "code",
   "execution_count": 2,
   "id": "878c9053",
   "metadata": {},
   "outputs": [],
   "source": [
    "import imageio as iio"
   ]
  },
  {
   "cell_type": "code",
   "execution_count": 3,
   "id": "4afae3ef",
   "metadata": {},
   "outputs": [],
   "source": [
    "# rean an image\n",
    "img = iio.imread(\"1.jpg\")"
   ]
  },
  {
   "cell_type": "code",
   "execution_count": 4,
   "id": "36f60110",
   "metadata": {},
   "outputs": [
    {
     "data": {
      "text/plain": [
       "Array([[[ 13,  14,   8],\n",
       "        [ 13,  14,   8],\n",
       "        [ 13,  14,   8],\n",
       "        ...,\n",
       "        [ 13,  16,   7],\n",
       "        [ 13,  16,   7],\n",
       "        [ 13,  16,   7]],\n",
       "\n",
       "       [[ 13,  14,   8],\n",
       "        [ 13,  14,   8],\n",
       "        [ 13,  14,   8],\n",
       "        ...,\n",
       "        [ 13,  16,   7],\n",
       "        [ 13,  16,   7],\n",
       "        [ 13,  16,   7]],\n",
       "\n",
       "       [[ 13,  14,   8],\n",
       "        [ 13,  14,   8],\n",
       "        [ 13,  14,   8],\n",
       "        ...,\n",
       "        [ 13,  16,   7],\n",
       "        [ 13,  16,   7],\n",
       "        [ 13,  16,   7]],\n",
       "\n",
       "       ...,\n",
       "\n",
       "       [[ 32,  27,   0],\n",
       "        [ 36,  37,   5],\n",
       "        [ 30,  40,   5],\n",
       "        ...,\n",
       "        [118, 102,  87],\n",
       "        [133, 117, 102],\n",
       "        [127, 111,  96]],\n",
       "\n",
       "       [[ 22,  19,   0],\n",
       "        [ 26,  30,   0],\n",
       "        [ 20,  31,   0],\n",
       "        ...,\n",
       "        [101,  83,  69],\n",
       "        [122, 104,  90],\n",
       "        [125, 107,  93]],\n",
       "\n",
       "       [[ 19,  16,   1],\n",
       "        [ 22,  21,   3],\n",
       "        [ 22,  23,   5],\n",
       "        ...,\n",
       "        [ 98,  82,  66],\n",
       "        [ 92,  79,  63],\n",
       "        [114, 101,  85]]], dtype=uint8)"
      ]
     },
     "execution_count": 4,
     "metadata": {},
     "output_type": "execute_result"
    }
   ],
   "source": [
    "img # rgb values"
   ]
  },
  {
   "cell_type": "code",
   "execution_count": 5,
   "id": "f51dff37",
   "metadata": {},
   "outputs": [
    {
     "data": {
      "text/plain": [
       "(649, 1240, 3)"
      ]
     },
     "execution_count": 5,
     "metadata": {},
     "output_type": "execute_result"
    }
   ],
   "source": [
    "img.shape"
   ]
  },
  {
   "cell_type": "code",
   "execution_count": 6,
   "id": "0834f0a4",
   "metadata": {},
   "outputs": [
    {
     "data": {
      "text/plain": [
       "Array([[ 13,  14,   8],\n",
       "       [ 13,  14,   8],\n",
       "       [ 13,  14,   8],\n",
       "       ...,\n",
       "       [ 98,  82,  66],\n",
       "       [ 92,  79,  63],\n",
       "       [114, 101,  85]], dtype=uint8)"
      ]
     },
     "execution_count": 6,
     "metadata": {},
     "output_type": "execute_result"
    }
   ],
   "source": [
    "#  converting image into one straight line\n",
    "x = img.flatten().reshape(649*1240,3)\n",
    "x"
   ]
  },
  {
   "cell_type": "code",
   "execution_count": 7,
   "id": "499f2826",
   "metadata": {},
   "outputs": [],
   "source": [
    "# KMeans cluster -> if you have to go through every single row(here pixel) of this matrix, say what family or cluster it belongs to and assign a value or family or a cluster \n",
    "from sklearn.cluster import KMeans"
   ]
  },
  {
   "cell_type": "code",
   "execution_count": 8,
   "id": "459c5573",
   "metadata": {},
   "outputs": [],
   "source": [
    "Kmeans = KMeans(n_clusters=12, random_state=0).fit(x)"
   ]
  },
  {
   "cell_type": "code",
   "execution_count": 9,
   "id": "779ae93f",
   "metadata": {},
   "outputs": [
    {
     "data": {
      "text/plain": [
       "array([8, 8, 8, ..., 5, 5, 1])"
      ]
     },
     "execution_count": 9,
     "metadata": {},
     "output_type": "execute_result"
    }
   ],
   "source": [
    "Kmeans.labels_"
   ]
  },
  {
   "cell_type": "code",
   "execution_count": 10,
   "id": "9852fb9b",
   "metadata": {},
   "outputs": [],
   "source": [
    "colors = [[255,255,255],[0,25,55],[2,2,50],[2,225,225],[122,88,79],[0,88,79], [32,78,7],[122,232,79],[212,225,2],[212,2,2],[250,225,225],[0,0,0]]"
   ]
  },
  {
   "cell_type": "code",
   "execution_count": 11,
   "id": "52994fdf",
   "metadata": {},
   "outputs": [],
   "source": [
    "import numpy as np\n",
    "new_img = [colors[i] for i in Kmeans.labels_]\n",
    "new_img = np.reshape(new_img, img.shape)"
   ]
  },
  {
   "cell_type": "code",
   "execution_count": 12,
   "id": "de99e6d7",
   "metadata": {},
   "outputs": [
    {
     "data": {
      "image/png": "[encoded data removed]",
      "text/plain": [
       "<Figure size 432x288 with 1 Axes>"
      ]
     },
     "metadata": {
      "needs_background": "light"
     },
     "output_type": "display_data"
    }
   ],
   "source": [
    "from matplotlib import pyplot as plt\n",
    "plt.imshow(new_img, interpolation='nearest')\n",
    "plt.savefig('A.jpg')\n",
    "plt.show()"
   ]
  }
 ],
 "metadata": {
  "kernelspec": {
   "display_name": "Python 3 (ipykernel)",
   "language": "python",
   "name": "python3"
  },
  "language_info": {
   "codemirror_mode": {
    "name": "ipython",
    "version": 3
   },
   "file_extension": ".py",
   "mimetype": "text/x-python",
   "name": "python",
   "nbconvert_exporter": "python",
   "pygments_lexer": "ipython3",
   "version": "3.9.7"
  }
 },
 "nbformat": 4,
 "nbformat_minor": 5
}
